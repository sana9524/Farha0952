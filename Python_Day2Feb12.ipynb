{
  "nbformat": 4,
  "nbformat_minor": 0,
  "metadata": {
    "colab": {
      "provenance": [],
      "authorship_tag": "ABX9TyMJbZ0VruHGKTLh0WXgZJZQ",
      "include_colab_link": true
    },
    "kernelspec": {
      "name": "python3",
      "display_name": "Python 3"
    },
    "language_info": {
      "name": "python"
    }
  },
  "cells": [
    {
      "cell_type": "markdown",
      "metadata": {
        "id": "view-in-github",
        "colab_type": "text"
      },
      "source": [
        "<a href=\"https://colab.research.google.com/github/sana9524/Farha0952/blob/main/Python_Day2Feb12.ipynb\" target=\"_parent\"><img src=\"https://colab.research.google.com/assets/colab-badge.svg\" alt=\"Open In Colab\"/></a>"
      ]
    },
    {
      "cell_type": "code",
      "execution_count": 1,
      "metadata": {
        "id": "fs2hBR4RRBvv"
      },
      "outputs": [],
      "source": [
        "##importing packages\n",
        "import numpy as np\n",
        "import pandas as pd\n",
        "import matplotlib.pyplot as plt\n"
      ]
    },
    {
      "cell_type": "code",
      "source": [
        "#import dataset\n",
        "stats= pd.read_csv('/content/sample_data/DemographicData.csv')"
      ],
      "metadata": {
        "id": "rP3cznrmTCaL"
      },
      "execution_count": 3,
      "outputs": []
    },
    {
      "cell_type": "code",
      "source": [
        "stats.head"
      ],
      "metadata": {
        "colab": {
          "base_uri": "https://localhost:8080/"
        },
        "id": "335n9ve8T1ep",
        "outputId": "086cc45d-798d-4249-9a88-e864456530cd"
      },
      "execution_count": 4,
      "outputs": [
        {
          "output_type": "execute_result",
          "data": {
            "text/plain": [
              "<bound method NDFrame.head of              Country Name Country Code  Birth rate  Internet users  \\\n",
              "0                   Aruba          ABW      10.244            78.9   \n",
              "1             Afghanistan          AFG      35.253             5.9   \n",
              "2                  Angola          AGO      45.985            19.1   \n",
              "3                 Albania          ALB      12.877            57.2   \n",
              "4    United Arab Emirates          ARE      11.044            88.0   \n",
              "..                    ...          ...         ...             ...   \n",
              "190           Yemen, Rep.          YEM      32.947            20.0   \n",
              "191          South Africa          ZAF      20.850            46.5   \n",
              "192      Congo, Dem. Rep.          COD      42.394             2.2   \n",
              "193                Zambia          ZMB      40.471            15.4   \n",
              "194              Zimbabwe          ZWE      35.715            18.5   \n",
              "\n",
              "            Income Group  \n",
              "0            High income  \n",
              "1             Low income  \n",
              "2    Upper middle income  \n",
              "3    Upper middle income  \n",
              "4            High income  \n",
              "..                   ...  \n",
              "190  Lower middle income  \n",
              "191  Upper middle income  \n",
              "192           Low income  \n",
              "193  Lower middle income  \n",
              "194           Low income  \n",
              "\n",
              "[195 rows x 5 columns]>"
            ]
          },
          "metadata": {},
          "execution_count": 4
        }
      ]
    },
    {
      "cell_type": "code",
      "source": [
        "stats.tail"
      ],
      "metadata": {
        "colab": {
          "base_uri": "https://localhost:8080/"
        },
        "id": "BOx_klqAUVRX",
        "outputId": "3ff30002-6451-48c7-aa26-aa1e7ed5945a"
      },
      "execution_count": 5,
      "outputs": [
        {
          "output_type": "execute_result",
          "data": {
            "text/plain": [
              "<bound method NDFrame.tail of              Country Name Country Code  Birth rate  Internet users  \\\n",
              "0                   Aruba          ABW      10.244            78.9   \n",
              "1             Afghanistan          AFG      35.253             5.9   \n",
              "2                  Angola          AGO      45.985            19.1   \n",
              "3                 Albania          ALB      12.877            57.2   \n",
              "4    United Arab Emirates          ARE      11.044            88.0   \n",
              "..                    ...          ...         ...             ...   \n",
              "190           Yemen, Rep.          YEM      32.947            20.0   \n",
              "191          South Africa          ZAF      20.850            46.5   \n",
              "192      Congo, Dem. Rep.          COD      42.394             2.2   \n",
              "193                Zambia          ZMB      40.471            15.4   \n",
              "194              Zimbabwe          ZWE      35.715            18.5   \n",
              "\n",
              "            Income Group  \n",
              "0            High income  \n",
              "1             Low income  \n",
              "2    Upper middle income  \n",
              "3    Upper middle income  \n",
              "4            High income  \n",
              "..                   ...  \n",
              "190  Lower middle income  \n",
              "191  Upper middle income  \n",
              "192           Low income  \n",
              "193  Lower middle income  \n",
              "194           Low income  \n",
              "\n",
              "[195 rows x 5 columns]>"
            ]
          },
          "metadata": {},
          "execution_count": 5
        }
      ]
    },
    {
      "cell_type": "code",
      "source": [
        "len(stats)"
      ],
      "metadata": {
        "colab": {
          "base_uri": "https://localhost:8080/"
        },
        "id": "db7wVkQ5Uejy",
        "outputId": "d94eebdf-d058-457a-bb83-fc63dc3c7b5e"
      },
      "execution_count": 6,
      "outputs": [
        {
          "output_type": "execute_result",
          "data": {
            "text/plain": [
              "195"
            ]
          },
          "metadata": {},
          "execution_count": 6
        }
      ]
    },
    {
      "cell_type": "code",
      "source": [
        "stats.columns"
      ],
      "metadata": {
        "colab": {
          "base_uri": "https://localhost:8080/"
        },
        "id": "cPlQHaQxUiIJ",
        "outputId": "df5af11a-352f-4b6b-ac3c-5bfcf19da6d4"
      },
      "execution_count": 9,
      "outputs": [
        {
          "output_type": "execute_result",
          "data": {
            "text/plain": [
              "Index(['Country Name', 'Country Code', 'Birth rate', 'Internet users',\n",
              "       'Income Group'],\n",
              "      dtype='object')"
            ]
          },
          "metadata": {},
          "execution_count": 9
        }
      ]
    },
    {
      "cell_type": "code",
      "source": [
        "stats.info"
      ],
      "metadata": {
        "colab": {
          "base_uri": "https://localhost:8080/"
        },
        "id": "gaLPPl5fUuWy",
        "outputId": "4f2fc769-a0a2-4686-fbe8-7ffc7c6061e0"
      },
      "execution_count": 10,
      "outputs": [
        {
          "output_type": "execute_result",
          "data": {
            "text/plain": [
              "<bound method DataFrame.info of              Country Name Country Code  Birth rate  Internet users  \\\n",
              "0                   Aruba          ABW      10.244            78.9   \n",
              "1             Afghanistan          AFG      35.253             5.9   \n",
              "2                  Angola          AGO      45.985            19.1   \n",
              "3                 Albania          ALB      12.877            57.2   \n",
              "4    United Arab Emirates          ARE      11.044            88.0   \n",
              "..                    ...          ...         ...             ...   \n",
              "190           Yemen, Rep.          YEM      32.947            20.0   \n",
              "191          South Africa          ZAF      20.850            46.5   \n",
              "192      Congo, Dem. Rep.          COD      42.394             2.2   \n",
              "193                Zambia          ZMB      40.471            15.4   \n",
              "194              Zimbabwe          ZWE      35.715            18.5   \n",
              "\n",
              "            Income Group  \n",
              "0            High income  \n",
              "1             Low income  \n",
              "2    Upper middle income  \n",
              "3    Upper middle income  \n",
              "4            High income  \n",
              "..                   ...  \n",
              "190  Lower middle income  \n",
              "191  Upper middle income  \n",
              "192           Low income  \n",
              "193  Lower middle income  \n",
              "194           Low income  \n",
              "\n",
              "[195 rows x 5 columns]>"
            ]
          },
          "metadata": {},
          "execution_count": 10
        }
      ]
    },
    {
      "cell_type": "code",
      "source": [
        "stats.describe()"
      ],
      "metadata": {
        "colab": {
          "base_uri": "https://localhost:8080/",
          "height": 300
        },
        "id": "zaTFNbxTU6po",
        "outputId": "201ba2a9-7c5c-4b73-cafc-e0a09ca7bc99"
      },
      "execution_count": 11,
      "outputs": [
        {
          "output_type": "execute_result",
          "data": {
            "text/plain": [
              "       Birth rate  Internet users\n",
              "count  195.000000      195.000000\n",
              "mean    21.469928       42.076471\n",
              "std     10.605467       29.030788\n",
              "min      7.900000        0.900000\n",
              "25%     12.120500       14.520000\n",
              "50%     19.680000       41.000000\n",
              "75%     29.759500       66.225000\n",
              "max     49.661000       96.546800"
            ],
            "text/html": [
              "\n",
              "  <div id=\"df-f2f8e0e9-af9e-490b-803e-ce02cdc4e004\">\n",
              "    <div class=\"colab-df-container\">\n",
              "      <div>\n",
              "<style scoped>\n",
              "    .dataframe tbody tr th:only-of-type {\n",
              "        vertical-align: middle;\n",
              "    }\n",
              "\n",
              "    .dataframe tbody tr th {\n",
              "        vertical-align: top;\n",
              "    }\n",
              "\n",
              "    .dataframe thead th {\n",
              "        text-align: right;\n",
              "    }\n",
              "</style>\n",
              "<table border=\"1\" class=\"dataframe\">\n",
              "  <thead>\n",
              "    <tr style=\"text-align: right;\">\n",
              "      <th></th>\n",
              "      <th>Birth rate</th>\n",
              "      <th>Internet users</th>\n",
              "    </tr>\n",
              "  </thead>\n",
              "  <tbody>\n",
              "    <tr>\n",
              "      <th>count</th>\n",
              "      <td>195.000000</td>\n",
              "      <td>195.000000</td>\n",
              "    </tr>\n",
              "    <tr>\n",
              "      <th>mean</th>\n",
              "      <td>21.469928</td>\n",
              "      <td>42.076471</td>\n",
              "    </tr>\n",
              "    <tr>\n",
              "      <th>std</th>\n",
              "      <td>10.605467</td>\n",
              "      <td>29.030788</td>\n",
              "    </tr>\n",
              "    <tr>\n",
              "      <th>min</th>\n",
              "      <td>7.900000</td>\n",
              "      <td>0.900000</td>\n",
              "    </tr>\n",
              "    <tr>\n",
              "      <th>25%</th>\n",
              "      <td>12.120500</td>\n",
              "      <td>14.520000</td>\n",
              "    </tr>\n",
              "    <tr>\n",
              "      <th>50%</th>\n",
              "      <td>19.680000</td>\n",
              "      <td>41.000000</td>\n",
              "    </tr>\n",
              "    <tr>\n",
              "      <th>75%</th>\n",
              "      <td>29.759500</td>\n",
              "      <td>66.225000</td>\n",
              "    </tr>\n",
              "    <tr>\n",
              "      <th>max</th>\n",
              "      <td>49.661000</td>\n",
              "      <td>96.546800</td>\n",
              "    </tr>\n",
              "  </tbody>\n",
              "</table>\n",
              "</div>\n",
              "      <button class=\"colab-df-convert\" onclick=\"convertToInteractive('df-f2f8e0e9-af9e-490b-803e-ce02cdc4e004')\"\n",
              "              title=\"Convert this dataframe to an interactive table.\"\n",
              "              style=\"display:none;\">\n",
              "        \n",
              "  <svg xmlns=\"http://www.w3.org/2000/svg\" height=\"24px\"viewBox=\"0 0 24 24\"\n",
              "       width=\"24px\">\n",
              "    <path d=\"M0 0h24v24H0V0z\" fill=\"none\"/>\n",
              "    <path d=\"M18.56 5.44l.94 2.06.94-2.06 2.06-.94-2.06-.94-.94-2.06-.94 2.06-2.06.94zm-11 1L8.5 8.5l.94-2.06 2.06-.94-2.06-.94L8.5 2.5l-.94 2.06-2.06.94zm10 10l.94 2.06.94-2.06 2.06-.94-2.06-.94-.94-2.06-.94 2.06-2.06.94z\"/><path d=\"M17.41 7.96l-1.37-1.37c-.4-.4-.92-.59-1.43-.59-.52 0-1.04.2-1.43.59L10.3 9.45l-7.72 7.72c-.78.78-.78 2.05 0 2.83L4 21.41c.39.39.9.59 1.41.59.51 0 1.02-.2 1.41-.59l7.78-7.78 2.81-2.81c.8-.78.8-2.07 0-2.86zM5.41 20L4 18.59l7.72-7.72 1.47 1.35L5.41 20z\"/>\n",
              "  </svg>\n",
              "      </button>\n",
              "      \n",
              "  <style>\n",
              "    .colab-df-container {\n",
              "      display:flex;\n",
              "      flex-wrap:wrap;\n",
              "      gap: 12px;\n",
              "    }\n",
              "\n",
              "    .colab-df-convert {\n",
              "      background-color: #E8F0FE;\n",
              "      border: none;\n",
              "      border-radius: 50%;\n",
              "      cursor: pointer;\n",
              "      display: none;\n",
              "      fill: #1967D2;\n",
              "      height: 32px;\n",
              "      padding: 0 0 0 0;\n",
              "      width: 32px;\n",
              "    }\n",
              "\n",
              "    .colab-df-convert:hover {\n",
              "      background-color: #E2EBFA;\n",
              "      box-shadow: 0px 1px 2px rgba(60, 64, 67, 0.3), 0px 1px 3px 1px rgba(60, 64, 67, 0.15);\n",
              "      fill: #174EA6;\n",
              "    }\n",
              "\n",
              "    [theme=dark] .colab-df-convert {\n",
              "      background-color: #3B4455;\n",
              "      fill: #D2E3FC;\n",
              "    }\n",
              "\n",
              "    [theme=dark] .colab-df-convert:hover {\n",
              "      background-color: #434B5C;\n",
              "      box-shadow: 0px 1px 3px 1px rgba(0, 0, 0, 0.15);\n",
              "      filter: drop-shadow(0px 1px 2px rgba(0, 0, 0, 0.3));\n",
              "      fill: #FFFFFF;\n",
              "    }\n",
              "  </style>\n",
              "\n",
              "      <script>\n",
              "        const buttonEl =\n",
              "          document.querySelector('#df-f2f8e0e9-af9e-490b-803e-ce02cdc4e004 button.colab-df-convert');\n",
              "        buttonEl.style.display =\n",
              "          google.colab.kernel.accessAllowed ? 'block' : 'none';\n",
              "\n",
              "        async function convertToInteractive(key) {\n",
              "          const element = document.querySelector('#df-f2f8e0e9-af9e-490b-803e-ce02cdc4e004');\n",
              "          const dataTable =\n",
              "            await google.colab.kernel.invokeFunction('convertToInteractive',\n",
              "                                                     [key], {});\n",
              "          if (!dataTable) return;\n",
              "\n",
              "          const docLinkHtml = 'Like what you see? Visit the ' +\n",
              "            '<a target=\"_blank\" href=https://colab.research.google.com/notebooks/data_table.ipynb>data table notebook</a>'\n",
              "            + ' to learn more about interactive tables.';\n",
              "          element.innerHTML = '';\n",
              "          dataTable['output_type'] = 'display_data';\n",
              "          await google.colab.output.renderOutput(dataTable, element);\n",
              "          const docLink = document.createElement('div');\n",
              "          docLink.innerHTML = docLinkHtml;\n",
              "          element.appendChild(docLink);\n",
              "        }\n",
              "      </script>\n",
              "    </div>\n",
              "  </div>\n",
              "  "
            ]
          },
          "metadata": {},
          "execution_count": 11
        }
      ]
    },
    {
      "cell_type": "code",
      "source": [
        "stats.columns=['CountryName', 'CountryCode', 'Birthrate', 'Internetusers',\n",
        "       'IncomeGroup']"
      ],
      "metadata": {
        "id": "cUDyk45kVx-A"
      },
      "execution_count": 14,
      "outputs": []
    },
    {
      "cell_type": "code",
      "source": [
        "stats.columns"
      ],
      "metadata": {
        "colab": {
          "base_uri": "https://localhost:8080/"
        },
        "id": "uXSztP2DWY3z",
        "outputId": "06ea1f72-65f7-4df9-e0b9-f6b062c79139"
      },
      "execution_count": 15,
      "outputs": [
        {
          "output_type": "execute_result",
          "data": {
            "text/plain": [
              "Index(['CountryName', 'CountryCode', 'Birthrate', 'Internetusers',\n",
              "       'IncomeGroup'],\n",
              "      dtype='object')"
            ]
          },
          "metadata": {},
          "execution_count": 15
        }
      ]
    },
    {
      "cell_type": "code",
      "source": [
        "stats[190:]"
      ],
      "metadata": {
        "colab": {
          "base_uri": "https://localhost:8080/",
          "height": 206
        },
        "id": "sWvQ3R9OWiM6",
        "outputId": "7f8c1a0a-6bda-4352-911b-6ad21d16348a"
      },
      "execution_count": 16,
      "outputs": [
        {
          "output_type": "execute_result",
          "data": {
            "text/plain": [
              "          CountryName CountryCode  Birthrate  Internetusers  \\\n",
              "190       Yemen, Rep.         YEM     32.947           20.0   \n",
              "191      South Africa         ZAF     20.850           46.5   \n",
              "192  Congo, Dem. Rep.         COD     42.394            2.2   \n",
              "193            Zambia         ZMB     40.471           15.4   \n",
              "194          Zimbabwe         ZWE     35.715           18.5   \n",
              "\n",
              "             IncomeGroup  \n",
              "190  Lower middle income  \n",
              "191  Upper middle income  \n",
              "192           Low income  \n",
              "193  Lower middle income  \n",
              "194           Low income  "
            ],
            "text/html": [
              "\n",
              "  <div id=\"df-c1555d01-6b99-4211-a7ff-4dbbcaf7dea5\">\n",
              "    <div class=\"colab-df-container\">\n",
              "      <div>\n",
              "<style scoped>\n",
              "    .dataframe tbody tr th:only-of-type {\n",
              "        vertical-align: middle;\n",
              "    }\n",
              "\n",
              "    .dataframe tbody tr th {\n",
              "        vertical-align: top;\n",
              "    }\n",
              "\n",
              "    .dataframe thead th {\n",
              "        text-align: right;\n",
              "    }\n",
              "</style>\n",
              "<table border=\"1\" class=\"dataframe\">\n",
              "  <thead>\n",
              "    <tr style=\"text-align: right;\">\n",
              "      <th></th>\n",
              "      <th>CountryName</th>\n",
              "      <th>CountryCode</th>\n",
              "      <th>Birthrate</th>\n",
              "      <th>Internetusers</th>\n",
              "      <th>IncomeGroup</th>\n",
              "    </tr>\n",
              "  </thead>\n",
              "  <tbody>\n",
              "    <tr>\n",
              "      <th>190</th>\n",
              "      <td>Yemen, Rep.</td>\n",
              "      <td>YEM</td>\n",
              "      <td>32.947</td>\n",
              "      <td>20.0</td>\n",
              "      <td>Lower middle income</td>\n",
              "    </tr>\n",
              "    <tr>\n",
              "      <th>191</th>\n",
              "      <td>South Africa</td>\n",
              "      <td>ZAF</td>\n",
              "      <td>20.850</td>\n",
              "      <td>46.5</td>\n",
              "      <td>Upper middle income</td>\n",
              "    </tr>\n",
              "    <tr>\n",
              "      <th>192</th>\n",
              "      <td>Congo, Dem. Rep.</td>\n",
              "      <td>COD</td>\n",
              "      <td>42.394</td>\n",
              "      <td>2.2</td>\n",
              "      <td>Low income</td>\n",
              "    </tr>\n",
              "    <tr>\n",
              "      <th>193</th>\n",
              "      <td>Zambia</td>\n",
              "      <td>ZMB</td>\n",
              "      <td>40.471</td>\n",
              "      <td>15.4</td>\n",
              "      <td>Lower middle income</td>\n",
              "    </tr>\n",
              "    <tr>\n",
              "      <th>194</th>\n",
              "      <td>Zimbabwe</td>\n",
              "      <td>ZWE</td>\n",
              "      <td>35.715</td>\n",
              "      <td>18.5</td>\n",
              "      <td>Low income</td>\n",
              "    </tr>\n",
              "  </tbody>\n",
              "</table>\n",
              "</div>\n",
              "      <button class=\"colab-df-convert\" onclick=\"convertToInteractive('df-c1555d01-6b99-4211-a7ff-4dbbcaf7dea5')\"\n",
              "              title=\"Convert this dataframe to an interactive table.\"\n",
              "              style=\"display:none;\">\n",
              "        \n",
              "  <svg xmlns=\"http://www.w3.org/2000/svg\" height=\"24px\"viewBox=\"0 0 24 24\"\n",
              "       width=\"24px\">\n",
              "    <path d=\"M0 0h24v24H0V0z\" fill=\"none\"/>\n",
              "    <path d=\"M18.56 5.44l.94 2.06.94-2.06 2.06-.94-2.06-.94-.94-2.06-.94 2.06-2.06.94zm-11 1L8.5 8.5l.94-2.06 2.06-.94-2.06-.94L8.5 2.5l-.94 2.06-2.06.94zm10 10l.94 2.06.94-2.06 2.06-.94-2.06-.94-.94-2.06-.94 2.06-2.06.94z\"/><path d=\"M17.41 7.96l-1.37-1.37c-.4-.4-.92-.59-1.43-.59-.52 0-1.04.2-1.43.59L10.3 9.45l-7.72 7.72c-.78.78-.78 2.05 0 2.83L4 21.41c.39.39.9.59 1.41.59.51 0 1.02-.2 1.41-.59l7.78-7.78 2.81-2.81c.8-.78.8-2.07 0-2.86zM5.41 20L4 18.59l7.72-7.72 1.47 1.35L5.41 20z\"/>\n",
              "  </svg>\n",
              "      </button>\n",
              "      \n",
              "  <style>\n",
              "    .colab-df-container {\n",
              "      display:flex;\n",
              "      flex-wrap:wrap;\n",
              "      gap: 12px;\n",
              "    }\n",
              "\n",
              "    .colab-df-convert {\n",
              "      background-color: #E8F0FE;\n",
              "      border: none;\n",
              "      border-radius: 50%;\n",
              "      cursor: pointer;\n",
              "      display: none;\n",
              "      fill: #1967D2;\n",
              "      height: 32px;\n",
              "      padding: 0 0 0 0;\n",
              "      width: 32px;\n",
              "    }\n",
              "\n",
              "    .colab-df-convert:hover {\n",
              "      background-color: #E2EBFA;\n",
              "      box-shadow: 0px 1px 2px rgba(60, 64, 67, 0.3), 0px 1px 3px 1px rgba(60, 64, 67, 0.15);\n",
              "      fill: #174EA6;\n",
              "    }\n",
              "\n",
              "    [theme=dark] .colab-df-convert {\n",
              "      background-color: #3B4455;\n",
              "      fill: #D2E3FC;\n",
              "    }\n",
              "\n",
              "    [theme=dark] .colab-df-convert:hover {\n",
              "      background-color: #434B5C;\n",
              "      box-shadow: 0px 1px 3px 1px rgba(0, 0, 0, 0.15);\n",
              "      filter: drop-shadow(0px 1px 2px rgba(0, 0, 0, 0.3));\n",
              "      fill: #FFFFFF;\n",
              "    }\n",
              "  </style>\n",
              "\n",
              "      <script>\n",
              "        const buttonEl =\n",
              "          document.querySelector('#df-c1555d01-6b99-4211-a7ff-4dbbcaf7dea5 button.colab-df-convert');\n",
              "        buttonEl.style.display =\n",
              "          google.colab.kernel.accessAllowed ? 'block' : 'none';\n",
              "\n",
              "        async function convertToInteractive(key) {\n",
              "          const element = document.querySelector('#df-c1555d01-6b99-4211-a7ff-4dbbcaf7dea5');\n",
              "          const dataTable =\n",
              "            await google.colab.kernel.invokeFunction('convertToInteractive',\n",
              "                                                     [key], {});\n",
              "          if (!dataTable) return;\n",
              "\n",
              "          const docLinkHtml = 'Like what you see? Visit the ' +\n",
              "            '<a target=\"_blank\" href=https://colab.research.google.com/notebooks/data_table.ipynb>data table notebook</a>'\n",
              "            + ' to learn more about interactive tables.';\n",
              "          element.innerHTML = '';\n",
              "          dataTable['output_type'] = 'display_data';\n",
              "          await google.colab.output.renderOutput(dataTable, element);\n",
              "          const docLink = document.createElement('div');\n",
              "          docLink.innerHTML = docLinkHtml;\n",
              "          element.appendChild(docLink);\n",
              "        }\n",
              "      </script>\n",
              "    </div>\n",
              "  </div>\n",
              "  "
            ]
          },
          "metadata": {},
          "execution_count": 16
        }
      ]
    },
    {
      "cell_type": "code",
      "source": [
        "stats.iloc[:,[0,2]].values"
      ],
      "metadata": {
        "colab": {
          "base_uri": "https://localhost:8080/"
        },
        "id": "CmI7_K-HWzD1",
        "outputId": "a74aa60d-2156-42f8-8d19-71c74eb56505"
      },
      "execution_count": 18,
      "outputs": [
        {
          "output_type": "execute_result",
          "data": {
            "text/plain": [
              "array([['Aruba', 10.244],\n",
              "       ['Afghanistan', 35.253],\n",
              "       ['Angola', 45.985],\n",
              "       ['Albania', 12.877],\n",
              "       ['United Arab Emirates', 11.044],\n",
              "       ['Argentina', 17.716],\n",
              "       ['Armenia', 13.308],\n",
              "       ['Antigua and Barbuda', 16.447],\n",
              "       ['Australia', 13.2],\n",
              "       ['Austria', 9.4],\n",
              "       ['Azerbaijan', 18.3],\n",
              "       ['Burundi', 44.151],\n",
              "       ['Belgium', 11.2],\n",
              "       ['Benin', 36.44],\n",
              "       ['Burkina Faso', 40.551],\n",
              "       ['Bangladesh', 20.142],\n",
              "       ['Bulgaria', 9.2],\n",
              "       ['Bahrain', 15.04],\n",
              "       ['Bahamas, The', 15.339],\n",
              "       ['Bosnia and Herzegovina', 9.062],\n",
              "       ['Belarus', 12.5],\n",
              "       ['Belize', 23.092],\n",
              "       ['Bermuda', 10.4],\n",
              "       ['Bolivia', 24.236],\n",
              "       ['Brazil', 14.931],\n",
              "       ['Barbados', 12.188],\n",
              "       ['Brunei Darussalam', 16.405],\n",
              "       ['Bhutan', 18.134],\n",
              "       ['Botswana', 25.267],\n",
              "       ['Central African Republic', 34.076],\n",
              "       ['Canada', 10.9],\n",
              "       ['Switzerland', 10.2],\n",
              "       ['Chile', 13.385],\n",
              "       ['China', 12.1],\n",
              "       [\"Cote d'Ivoire\", 37.32],\n",
              "       ['Cameroon', 37.236],\n",
              "       ['Congo, Rep.', 37.011],\n",
              "       ['Colombia', 16.076],\n",
              "       ['Comoros', 34.326],\n",
              "       ['Cabo Verde', 21.625],\n",
              "       ['Costa Rica', 15.022],\n",
              "       ['Cuba', 10.4],\n",
              "       ['Cayman Islands', 12.5],\n",
              "       ['Cyprus', 11.436],\n",
              "       ['Czech Republic', 10.2],\n",
              "       ['Germany', 8.5],\n",
              "       ['Djibouti', 25.486],\n",
              "       ['Denmark', 10.0],\n",
              "       ['Dominican Republic', 21.198],\n",
              "       ['Algeria', 24.738],\n",
              "       ['Ecuador', 21.07],\n",
              "       ['Egypt, Arab Rep.', 28.032],\n",
              "       ['Eritrea', 34.8],\n",
              "       ['Spain', 9.1],\n",
              "       ['Estonia', 10.3],\n",
              "       ['Ethiopia', 32.925],\n",
              "       ['Finland', 10.7],\n",
              "       ['Fiji', 20.463],\n",
              "       ['France', 12.3],\n",
              "       ['Micronesia, Fed. Sts.', 23.511],\n",
              "       ['Gabon', 30.555],\n",
              "       ['United Kingdom', 12.2],\n",
              "       ['Georgia', 13.332],\n",
              "       ['Ghana', 33.131],\n",
              "       ['Guinea', 37.337],\n",
              "       ['Gambia, The', 42.525],\n",
              "       ['Guinea-Bissau', 37.503],\n",
              "       ['Equatorial Guinea', 35.362],\n",
              "       ['Greece', 8.5],\n",
              "       ['Grenada', 19.334],\n",
              "       ['Greenland', 14.5],\n",
              "       ['Guatemala', 27.465],\n",
              "       ['Guam', 17.389],\n",
              "       ['Guyana', 18.885],\n",
              "       ['Hong Kong SAR, China', 7.9],\n",
              "       ['Honduras', 21.593],\n",
              "       ['Croatia', 9.4],\n",
              "       ['Haiti', 25.345],\n",
              "       ['Hungary', 9.2],\n",
              "       ['Indonesia', 20.297],\n",
              "       ['India', 20.291],\n",
              "       ['Ireland', 15.0],\n",
              "       ['Iran, Islamic Rep.', 17.9],\n",
              "       ['Iraq', 31.093],\n",
              "       ['Iceland', 13.4],\n",
              "       ['Israel', 21.3],\n",
              "       ['Italy', 8.5],\n",
              "       ['Jamaica', 13.54],\n",
              "       ['Jordan', 27.046],\n",
              "       ['Japan', 8.2],\n",
              "       ['Kazakhstan', 22.73],\n",
              "       ['Kenya', 35.194],\n",
              "       ['Kyrgyz Republic', 27.2],\n",
              "       ['Cambodia', 24.462],\n",
              "       ['Kiribati', 29.044],\n",
              "       ['Korea, Rep.', 8.6],\n",
              "       ['Kuwait', 20.575],\n",
              "       ['Lao PDR', 27.051],\n",
              "       ['Lebanon', 13.426],\n",
              "       ['Liberia', 35.521],\n",
              "       ['Libya', 21.425],\n",
              "       ['St. Lucia', 15.43],\n",
              "       ['Liechtenstein', 9.2],\n",
              "       ['Sri Lanka', 17.863],\n",
              "       ['Lesotho', 28.738],\n",
              "       ['Lithuania', 10.1],\n",
              "       ['Luxembourg', 11.3],\n",
              "       ['Latvia', 10.2],\n",
              "       ['Macao SAR, China', 11.256],\n",
              "       ['Morocco', 21.023],\n",
              "       ['Moldova', 12.141],\n",
              "       ['Madagascar', 34.686],\n",
              "       ['Maldives', 21.447],\n",
              "       ['Mexico', 19.104],\n",
              "       ['Macedonia, FYR', 11.222],\n",
              "       ['Mali', 44.138],\n",
              "       ['Malta', 9.5],\n",
              "       ['Myanmar', 18.119],\n",
              "       ['Montenegro', 11.616],\n",
              "       ['Mongolia', 24.275],\n",
              "       ['Mozambique', 39.705],\n",
              "       ['Mauritania', 33.801],\n",
              "       ['Mauritius', 10.9],\n",
              "       ['Malawi', 39.459],\n",
              "       ['Malaysia', 16.805],\n",
              "       ['Namibia', 29.937],\n",
              "       ['New Caledonia', 17.0],\n",
              "       ['Niger', 49.661],\n",
              "       ['Nigeria', 40.045],\n",
              "       ['Nicaragua', 20.788],\n",
              "       ['Netherlands', 10.2],\n",
              "       ['Norway', 11.6],\n",
              "       ['Nepal', 20.923],\n",
              "       ['New Zealand', 13.12],\n",
              "       ['Oman', 20.419],\n",
              "       ['Pakistan', 29.582],\n",
              "       ['Panama', 19.68],\n",
              "       ['Peru', 20.198],\n",
              "       ['Philippines', 23.79],\n",
              "       ['Papua New Guinea', 28.899],\n",
              "       ['Poland', 9.6],\n",
              "       ['Puerto Rico', 10.8],\n",
              "       ['Portugal', 7.9],\n",
              "       ['Paraguay', 21.588],\n",
              "       ['French Polynesia', 16.393],\n",
              "       ['Qatar', 11.94],\n",
              "       ['Romania', 8.8],\n",
              "       ['Russian Federation', 13.2],\n",
              "       ['Rwanda', 32.689],\n",
              "       ['Saudi Arabia', 20.576],\n",
              "       ['Sudan', 33.477],\n",
              "       ['Senegal', 38.533],\n",
              "       ['Singapore', 9.3],\n",
              "       ['Solomon Islands', 30.578],\n",
              "       ['Sierra Leone', 36.729],\n",
              "       ['El Salvador', 17.476],\n",
              "       ['Somalia', 43.891],\n",
              "       ['Serbia', 9.2],\n",
              "       ['South Sudan', 37.126],\n",
              "       ['Sao Tome and Principe', 34.537],\n",
              "       ['Suriname', 18.455],\n",
              "       ['Slovak Republic', 10.1],\n",
              "       ['Slovenia', 10.2],\n",
              "       ['Sweden', 11.8],\n",
              "       ['Swaziland', 30.093],\n",
              "       ['Seychelles', 18.6],\n",
              "       ['Syrian Arab Republic', 24.043],\n",
              "       ['Chad', 45.745],\n",
              "       ['Togo', 36.08],\n",
              "       ['Thailand', 11.041],\n",
              "       ['Tajikistan', 30.792],\n",
              "       ['Turkmenistan', 21.322],\n",
              "       ['Timor-Leste', 35.755],\n",
              "       ['Tonga', 25.409],\n",
              "       ['Trinidad and Tobago', 14.59],\n",
              "       ['Tunisia', 19.8],\n",
              "       ['Turkey', 16.836],\n",
              "       ['Tanzania', 39.518],\n",
              "       ['Uganda', 43.474],\n",
              "       ['Ukraine', 11.1],\n",
              "       ['Uruguay', 14.374],\n",
              "       ['United States', 12.5],\n",
              "       ['Uzbekistan', 22.5],\n",
              "       ['St. Vincent and the Grenadines', 16.306],\n",
              "       ['Venezuela, RB', 19.842],\n",
              "       ['Virgin Islands (U.S.)', 10.7],\n",
              "       ['Vietnam', 15.537],\n",
              "       ['Vanuatu', 26.739],\n",
              "       ['West Bank and Gaza', 30.394],\n",
              "       ['Samoa', 26.172],\n",
              "       ['Yemen, Rep.', 32.947],\n",
              "       ['South Africa', 20.85],\n",
              "       ['Congo, Dem. Rep.', 42.394],\n",
              "       ['Zambia', 40.471],\n",
              "       ['Zimbabwe', 35.715]], dtype=object)"
            ]
          },
          "metadata": {},
          "execution_count": 18
        }
      ]
    },
    {
      "cell_type": "code",
      "source": [
        "stats.iloc[190:192,1:3].values"
      ],
      "metadata": {
        "colab": {
          "base_uri": "https://localhost:8080/"
        },
        "id": "D2Nku9hmXg0l",
        "outputId": "5a29668e-3c4f-417a-9761-03154eb0b999"
      },
      "execution_count": 19,
      "outputs": [
        {
          "output_type": "execute_result",
          "data": {
            "text/plain": [
              "array([['YEM', 32.947],\n",
              "       ['ZAF', 20.85]], dtype=object)"
            ]
          },
          "metadata": {},
          "execution_count": 19
        }
      ]
    },
    {
      "cell_type": "code",
      "source": [
        "stats.CountryName.head"
      ],
      "metadata": {
        "colab": {
          "base_uri": "https://localhost:8080/"
        },
        "id": "eu5sG0BPYfng",
        "outputId": "d98d8a15-23b7-4128-c79a-8407c78b47c0"
      },
      "execution_count": 22,
      "outputs": [
        {
          "output_type": "execute_result",
          "data": {
            "text/plain": [
              "<bound method NDFrame.head of 0                     Aruba\n",
              "1               Afghanistan\n",
              "2                    Angola\n",
              "3                   Albania\n",
              "4      United Arab Emirates\n",
              "               ...         \n",
              "190             Yemen, Rep.\n",
              "191            South Africa\n",
              "192        Congo, Dem. Rep.\n",
              "193                  Zambia\n",
              "194                Zimbabwe\n",
              "Name: CountryName, Length: 195, dtype: object>"
            ]
          },
          "metadata": {},
          "execution_count": 22
        }
      ]
    },
    {
      "cell_type": "code",
      "source": [
        "stats[['CountryName','CountryCode']]"
      ],
      "metadata": {
        "colab": {
          "base_uri": "https://localhost:8080/",
          "height": 424
        },
        "id": "U-RqDn0zY3oI",
        "outputId": "90779b5c-b608-4f5b-a166-3c387b294a9f"
      },
      "execution_count": 23,
      "outputs": [
        {
          "output_type": "execute_result",
          "data": {
            "text/plain": [
              "              CountryName CountryCode\n",
              "0                   Aruba         ABW\n",
              "1             Afghanistan         AFG\n",
              "2                  Angola         AGO\n",
              "3                 Albania         ALB\n",
              "4    United Arab Emirates         ARE\n",
              "..                    ...         ...\n",
              "190           Yemen, Rep.         YEM\n",
              "191          South Africa         ZAF\n",
              "192      Congo, Dem. Rep.         COD\n",
              "193                Zambia         ZMB\n",
              "194              Zimbabwe         ZWE\n",
              "\n",
              "[195 rows x 2 columns]"
            ],
            "text/html": [
              "\n",
              "  <div id=\"df-9e17e5b9-5e0d-43f7-a6e3-0fcea37bbd8e\">\n",
              "    <div class=\"colab-df-container\">\n",
              "      <div>\n",
              "<style scoped>\n",
              "    .dataframe tbody tr th:only-of-type {\n",
              "        vertical-align: middle;\n",
              "    }\n",
              "\n",
              "    .dataframe tbody tr th {\n",
              "        vertical-align: top;\n",
              "    }\n",
              "\n",
              "    .dataframe thead th {\n",
              "        text-align: right;\n",
              "    }\n",
              "</style>\n",
              "<table border=\"1\" class=\"dataframe\">\n",
              "  <thead>\n",
              "    <tr style=\"text-align: right;\">\n",
              "      <th></th>\n",
              "      <th>CountryName</th>\n",
              "      <th>CountryCode</th>\n",
              "    </tr>\n",
              "  </thead>\n",
              "  <tbody>\n",
              "    <tr>\n",
              "      <th>0</th>\n",
              "      <td>Aruba</td>\n",
              "      <td>ABW</td>\n",
              "    </tr>\n",
              "    <tr>\n",
              "      <th>1</th>\n",
              "      <td>Afghanistan</td>\n",
              "      <td>AFG</td>\n",
              "    </tr>\n",
              "    <tr>\n",
              "      <th>2</th>\n",
              "      <td>Angola</td>\n",
              "      <td>AGO</td>\n",
              "    </tr>\n",
              "    <tr>\n",
              "      <th>3</th>\n",
              "      <td>Albania</td>\n",
              "      <td>ALB</td>\n",
              "    </tr>\n",
              "    <tr>\n",
              "      <th>4</th>\n",
              "      <td>United Arab Emirates</td>\n",
              "      <td>ARE</td>\n",
              "    </tr>\n",
              "    <tr>\n",
              "      <th>...</th>\n",
              "      <td>...</td>\n",
              "      <td>...</td>\n",
              "    </tr>\n",
              "    <tr>\n",
              "      <th>190</th>\n",
              "      <td>Yemen, Rep.</td>\n",
              "      <td>YEM</td>\n",
              "    </tr>\n",
              "    <tr>\n",
              "      <th>191</th>\n",
              "      <td>South Africa</td>\n",
              "      <td>ZAF</td>\n",
              "    </tr>\n",
              "    <tr>\n",
              "      <th>192</th>\n",
              "      <td>Congo, Dem. Rep.</td>\n",
              "      <td>COD</td>\n",
              "    </tr>\n",
              "    <tr>\n",
              "      <th>193</th>\n",
              "      <td>Zambia</td>\n",
              "      <td>ZMB</td>\n",
              "    </tr>\n",
              "    <tr>\n",
              "      <th>194</th>\n",
              "      <td>Zimbabwe</td>\n",
              "      <td>ZWE</td>\n",
              "    </tr>\n",
              "  </tbody>\n",
              "</table>\n",
              "<p>195 rows × 2 columns</p>\n",
              "</div>\n",
              "      <button class=\"colab-df-convert\" onclick=\"convertToInteractive('df-9e17e5b9-5e0d-43f7-a6e3-0fcea37bbd8e')\"\n",
              "              title=\"Convert this dataframe to an interactive table.\"\n",
              "              style=\"display:none;\">\n",
              "        \n",
              "  <svg xmlns=\"http://www.w3.org/2000/svg\" height=\"24px\"viewBox=\"0 0 24 24\"\n",
              "       width=\"24px\">\n",
              "    <path d=\"M0 0h24v24H0V0z\" fill=\"none\"/>\n",
              "    <path d=\"M18.56 5.44l.94 2.06.94-2.06 2.06-.94-2.06-.94-.94-2.06-.94 2.06-2.06.94zm-11 1L8.5 8.5l.94-2.06 2.06-.94-2.06-.94L8.5 2.5l-.94 2.06-2.06.94zm10 10l.94 2.06.94-2.06 2.06-.94-2.06-.94-.94-2.06-.94 2.06-2.06.94z\"/><path d=\"M17.41 7.96l-1.37-1.37c-.4-.4-.92-.59-1.43-.59-.52 0-1.04.2-1.43.59L10.3 9.45l-7.72 7.72c-.78.78-.78 2.05 0 2.83L4 21.41c.39.39.9.59 1.41.59.51 0 1.02-.2 1.41-.59l7.78-7.78 2.81-2.81c.8-.78.8-2.07 0-2.86zM5.41 20L4 18.59l7.72-7.72 1.47 1.35L5.41 20z\"/>\n",
              "  </svg>\n",
              "      </button>\n",
              "      \n",
              "  <style>\n",
              "    .colab-df-container {\n",
              "      display:flex;\n",
              "      flex-wrap:wrap;\n",
              "      gap: 12px;\n",
              "    }\n",
              "\n",
              "    .colab-df-convert {\n",
              "      background-color: #E8F0FE;\n",
              "      border: none;\n",
              "      border-radius: 50%;\n",
              "      cursor: pointer;\n",
              "      display: none;\n",
              "      fill: #1967D2;\n",
              "      height: 32px;\n",
              "      padding: 0 0 0 0;\n",
              "      width: 32px;\n",
              "    }\n",
              "\n",
              "    .colab-df-convert:hover {\n",
              "      background-color: #E2EBFA;\n",
              "      box-shadow: 0px 1px 2px rgba(60, 64, 67, 0.3), 0px 1px 3px 1px rgba(60, 64, 67, 0.15);\n",
              "      fill: #174EA6;\n",
              "    }\n",
              "\n",
              "    [theme=dark] .colab-df-convert {\n",
              "      background-color: #3B4455;\n",
              "      fill: #D2E3FC;\n",
              "    }\n",
              "\n",
              "    [theme=dark] .colab-df-convert:hover {\n",
              "      background-color: #434B5C;\n",
              "      box-shadow: 0px 1px 3px 1px rgba(0, 0, 0, 0.15);\n",
              "      filter: drop-shadow(0px 1px 2px rgba(0, 0, 0, 0.3));\n",
              "      fill: #FFFFFF;\n",
              "    }\n",
              "  </style>\n",
              "\n",
              "      <script>\n",
              "        const buttonEl =\n",
              "          document.querySelector('#df-9e17e5b9-5e0d-43f7-a6e3-0fcea37bbd8e button.colab-df-convert');\n",
              "        buttonEl.style.display =\n",
              "          google.colab.kernel.accessAllowed ? 'block' : 'none';\n",
              "\n",
              "        async function convertToInteractive(key) {\n",
              "          const element = document.querySelector('#df-9e17e5b9-5e0d-43f7-a6e3-0fcea37bbd8e');\n",
              "          const dataTable =\n",
              "            await google.colab.kernel.invokeFunction('convertToInteractive',\n",
              "                                                     [key], {});\n",
              "          if (!dataTable) return;\n",
              "\n",
              "          const docLinkHtml = 'Like what you see? Visit the ' +\n",
              "            '<a target=\"_blank\" href=https://colab.research.google.com/notebooks/data_table.ipynb>data table notebook</a>'\n",
              "            + ' to learn more about interactive tables.';\n",
              "          element.innerHTML = '';\n",
              "          dataTable['output_type'] = 'display_data';\n",
              "          await google.colab.output.renderOutput(dataTable, element);\n",
              "          const docLink = document.createElement('div');\n",
              "          docLink.innerHTML = docLinkHtml;\n",
              "          element.appendChild(docLink);\n",
              "        }\n",
              "      </script>\n",
              "    </div>\n",
              "  </div>\n",
              "  "
            ]
          },
          "metadata": {},
          "execution_count": 23
        }
      ]
    },
    {
      "cell_type": "code",
      "source": [
        "stats.Internetusers/stats.Birthrate"
      ],
      "metadata": {
        "colab": {
          "base_uri": "https://localhost:8080/"
        },
        "id": "Lbm60KR-ZIBQ",
        "outputId": "147e1824-0bc2-4e83-8eee-2ab85639fe76"
      },
      "execution_count": 25,
      "outputs": [
        {
          "output_type": "execute_result",
          "data": {
            "text/plain": [
              "0      7.702070\n",
              "1      0.167362\n",
              "2      0.415353\n",
              "3      4.442028\n",
              "4      7.968127\n",
              "         ...   \n",
              "190    0.607036\n",
              "191    2.230216\n",
              "192    0.051894\n",
              "193    0.380519\n",
              "194    0.517990\n",
              "Length: 195, dtype: float64"
            ]
          },
          "metadata": {},
          "execution_count": 25
        }
      ]
    },
    {
      "cell_type": "code",
      "source": [
        "stats.head"
      ],
      "metadata": {
        "colab": {
          "base_uri": "https://localhost:8080/"
        },
        "id": "nnCHDHGJaYyT",
        "outputId": "c2286f63-9412-4d19-d4e3-5f9157d73f03"
      },
      "execution_count": 26,
      "outputs": [
        {
          "output_type": "execute_result",
          "data": {
            "text/plain": [
              "<bound method NDFrame.head of               CountryName CountryCode  Birthrate  Internetusers  \\\n",
              "0                   Aruba         ABW     10.244           78.9   \n",
              "1             Afghanistan         AFG     35.253            5.9   \n",
              "2                  Angola         AGO     45.985           19.1   \n",
              "3                 Albania         ALB     12.877           57.2   \n",
              "4    United Arab Emirates         ARE     11.044           88.0   \n",
              "..                    ...         ...        ...            ...   \n",
              "190           Yemen, Rep.         YEM     32.947           20.0   \n",
              "191          South Africa         ZAF     20.850           46.5   \n",
              "192      Congo, Dem. Rep.         COD     42.394            2.2   \n",
              "193                Zambia         ZMB     40.471           15.4   \n",
              "194              Zimbabwe         ZWE     35.715           18.5   \n",
              "\n",
              "             IncomeGroup  \n",
              "0            High income  \n",
              "1             Low income  \n",
              "2    Upper middle income  \n",
              "3    Upper middle income  \n",
              "4            High income  \n",
              "..                   ...  \n",
              "190  Lower middle income  \n",
              "191  Upper middle income  \n",
              "192           Low income  \n",
              "193  Lower middle income  \n",
              "194           Low income  \n",
              "\n",
              "[195 rows x 5 columns]>"
            ]
          },
          "metadata": {},
          "execution_count": 26
        }
      ]
    },
    {
      "cell_type": "code",
      "source": [
        "stats['New']=stats.Internetusers/stats.Birthrate"
      ],
      "metadata": {
        "id": "bUBW0DX4aoxa"
      },
      "execution_count": 28,
      "outputs": []
    },
    {
      "cell_type": "code",
      "source": [
        "stats=stats.drop('New',axis=1)\n",
        "stats.head"
      ],
      "metadata": {
        "colab": {
          "base_uri": "https://localhost:8080/"
        },
        "id": "2Q1lYQSwa80C",
        "outputId": "7670c5fb-7dc0-45ed-f1ef-e5157b07f316"
      },
      "execution_count": 33,
      "outputs": [
        {
          "output_type": "execute_result",
          "data": {
            "text/plain": [
              "<bound method NDFrame.head of               CountryName CountryCode  Birthrate  Internetusers  \\\n",
              "0                   Aruba         ABW     10.244           78.9   \n",
              "1             Afghanistan         AFG     35.253            5.9   \n",
              "2                  Angola         AGO     45.985           19.1   \n",
              "3                 Albania         ALB     12.877           57.2   \n",
              "4    United Arab Emirates         ARE     11.044           88.0   \n",
              "..                    ...         ...        ...            ...   \n",
              "190           Yemen, Rep.         YEM     32.947           20.0   \n",
              "191          South Africa         ZAF     20.850           46.5   \n",
              "192      Congo, Dem. Rep.         COD     42.394            2.2   \n",
              "193                Zambia         ZMB     40.471           15.4   \n",
              "194              Zimbabwe         ZWE     35.715           18.5   \n",
              "\n",
              "             IncomeGroup  \n",
              "0            High income  \n",
              "1             Low income  \n",
              "2    Upper middle income  \n",
              "3    Upper middle income  \n",
              "4            High income  \n",
              "..                   ...  \n",
              "190  Lower middle income  \n",
              "191  Upper middle income  \n",
              "192           Low income  \n",
              "193  Lower middle income  \n",
              "194           Low income  \n",
              "\n",
              "[195 rows x 5 columns]>"
            ]
          },
          "metadata": {},
          "execution_count": 33
        }
      ]
    },
    {
      "cell_type": "code",
      "source": [
        "stats=stats.drop('New',axis=1)\n",
        "stats.head"
      ],
      "metadata": {
        "id": "Y5CtcU0ebkVe"
      },
      "execution_count": null,
      "outputs": []
    },
    {
      "cell_type": "code",
      "source": [],
      "metadata": {
        "colab": {
          "base_uri": "https://localhost:8080/",
          "height": 165
        },
        "id": "_SMS7KU4c_S3",
        "outputId": "593d86eb-5bb3-4b96-991e-d1cf186d5b5c"
      },
      "execution_count": 34,
      "outputs": [
        {
          "output_type": "error",
          "ename": "NameError",
          "evalue": "ignored",
          "traceback": [
            "\u001b[0;31m---------------------------------------------------------------------------\u001b[0m",
            "\u001b[0;31mNameError\u001b[0m                                 Traceback (most recent call last)",
            "\u001b[0;32m<ipython-input-34-be72bdba890c>\u001b[0m in \u001b[0;36m<module>\u001b[0;34m\u001b[0m\n\u001b[0;32m----> 1\u001b[0;31m \u001b[0mstats\u001b[0m\u001b[0;34m.\u001b[0m\u001b[0mCountryName\u001b[0m\u001b[0;34m!=\u001b[0m\u001b[0mAruba\u001b[0m\u001b[0;34m\u001b[0m\u001b[0;34m\u001b[0m\u001b[0m\n\u001b[0m",
            "\u001b[0;31mNameError\u001b[0m: name 'Aruba' is not defined"
          ]
        }
      ]
    }
  ]
}